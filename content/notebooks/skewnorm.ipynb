{
 "cells": [
  {
   "cell_type": "code",
   "execution_count": 1,
   "metadata": {
    "collapsed": true
   },
   "outputs": [],
   "source": [
    "%matplotlib inline\n",
    "import matplotlib.pyplot as plt\n",
    "import numpy as np\n",
    "from scipy.stats import skewnorm\n",
    "from geodosic.model.parametrized_subvolume import myskewnorm"
   ]
  },
  {
   "cell_type": "code",
   "execution_count": 35,
   "metadata": {
    "collapsed": false
   },
   "outputs": [
    {
     "name": "stdout",
     "output_type": "stream",
     "text": [
      "-1.0\n",
      "-100.0\n",
      "-10000.0\n",
      "-1000000.0\n"
     ]
    }
   ],
   "source": [
    "a_range = -np.logspace(0, 6, 4)\n",
    "size = 1000\n",
    "\n",
    "time_old, time_new = [], []\n",
    "a_old, a_new = [], []\n",
    "for a in a_range:\n",
    "    print(a)\n",
    "    x = skewnorm.rvs(a, size=size, random_state=0)\n",
    "#     x += np.random.normal(0, 0.5, size)\n",
    "    \n",
    "    timeit_old = %timeit -oq skewnorm.fit(x)\n",
    "    timeit_new = %timeit -oq myskewnorm.fit(x)\n",
    "    time_old.append(timeit_old.best)\n",
    "    time_new.append(timeit_new.best)\n",
    "    \n",
    "    ahat_old, _, _ = skewnorm.fit(x)\n",
    "    ahat_new, _, _ = myskewnorm.fit(x)\n",
    "    a_old.append(ahat_old)\n",
    "    a_new.append(ahat_new)\n",
    "    \n",
    "a_old = np.array(a_old)\n",
    "a_new = np.array(a_new)"
   ]
  },
  {
   "cell_type": "code",
   "execution_count": 36,
   "metadata": {
    "collapsed": false
   },
   "outputs": [
    {
     "name": "stderr",
     "output_type": "stream",
     "text": [
      "/usr/local/lib/python3.6/site-packages/matplotlib/ticker.py:2041: UserWarning: Data has no positive values, and therefore cannot be log-scaled.\n",
      "  \"Data has no positive values, and therefore cannot be \"\n"
     ]
    },
    {
     "data": {
      "text/plain": [
       "<matplotlib.text.Text at 0x10ac6b470>"
      ]
     },
     "execution_count": 36,
     "metadata": {},
     "output_type": "execute_result"
    },
    {
     "data": {
      "image/png": "[encoded data removed]",
      "text/plain": [
       "<matplotlib.figure.Figure at 0x10ab133c8>"
      ]
     },
     "metadata": {},
     "output_type": "display_data"
    }
   ],
   "source": [
    "fig, ax1 = plt.subplots()\n",
    "\n",
    "ax1.semilogx(a_range, time_old, 'k-', label='Old')\n",
    "ax1.semilogx(a_range, time_new, 'r-', label='New')\n",
    "plt.legend(loc='best')\n",
    "ax1.set_xlabel('a')\n",
    "ax1.set_ylabel('Time [s]')\n",
    "\n",
    "ax2 = ax1.twinx()\n",
    "ax2.loglog(a_range, a_old/a_range, 'k:', label='Old')\n",
    "ax2.loglog(a_range, a_new/a_range, 'r:', label='New')\n",
    "ax2.set_ylabel('Result ratio')"
   ]
  },
  {
   "cell_type": "code",
   "execution_count": 37,
   "metadata": {
    "collapsed": false
   },
   "outputs": [
    {
     "name": "stdout",
     "output_type": "stream",
     "text": [
      "[  1.34194559e+00   9.50250706e-01   2.05533350e+01   3.55624121e-04]\n",
      "[  1.34198143e+00   9.50242072e-01   6.08089972e+03   3.55623964e-04]\n"
     ]
    }
   ],
   "source": [
    "print(a_old/a_range)\n",
    "print(a_new/a_range)"
   ]
  },
  {
   "cell_type": "code",
   "execution_count": null,
   "metadata": {
    "collapsed": true
   },
   "outputs": [],
   "source": []
  }
 ],
 "metadata": {
  "kernelspec": {
   "display_name": "Python 3",
   "language": "python",
   "name": "python3"
  },
  "language_info": {
   "codemirror_mode": {
    "name": "ipython",
    "version": 3
   },
   "file_extension": ".py",
   "mimetype": "text/x-python",
   "name": "python",
   "nbconvert_exporter": "python",
   "pygments_lexer": "ipython3",
   "version": "3.6.0"
  }
 },
 "nbformat": 4,
 "nbformat_minor": 2
}
